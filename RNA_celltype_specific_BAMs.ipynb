{
 "cells": [
  {
   "cell_type": "code",
   "execution_count": 4,
   "metadata": {},
   "outputs": [
    {
     "name": "stdout",
     "output_type": "stream",
     "text": [
      "A00351:89:HGNGNDSXX:4:1233:23963:9048\t16\t1\t4490987\t255\t151M\t*\t0\t0\tGAATTAAAGGCAAATTTTGTGGGAAGTGGGATCAAGACTTTTGGAAGAAAAGACAAACAGGAAAGAGTTATATCTGAAAAGCTCTTTTGGCAGGTGTCGAGATGACTGAAAATCCGAAATTTTTGAACAGCCTCATTAAAGTGTACAGAAT\tFFFFFFFFFFFFFFFFFFFFFFFFFFFFFFFFFFFFFF:FFFFFFFFFFFFFFFFFFFFFFFFFFFFFFFFFFFFFFFFFFFFFFFFFFFFFFFFFFFFFFFFFFFFFFFFFFFFFFFFFFFFFFFFFFFFFFFFFFFFFFFFFFFFFFFF\tNH:i:1\tHI:i:1\tAS:i:149\tnM:i:0\tTX:Z:ENSMUST00000027035,+2920,151M\tGX:Z:ENSMUSG00000025902\tGN:Z:Sox17\tfx:Z:ENSMUSG00000025902\tRE:A:E\tli:i:0\tBC:Z:CGAGGCTC\tQT:Z:FF:FFFFF\tCR:Z:AAACCTGAGAGACGAA\tCY:Z:FFFFFFFFFFFFFFFF\tCB:Z:AAACCTGAGAGACGAA-1\tUR:Z:TTTCTTGCAT\tUY:Z:FFFFFFFFFF\tUB:Z:TTTCTTGCAT\txf:i:25\tRG:Z:181205_1:0:1:HGNGNDSXX:4\n",
      "A00351:89:HGNGNDSXX:4:2146:21088:25614\t1040\t1\t4491060\t255\t151M\t*\t0\t0\tCTGAAAAGCTCTTTTGGCAGGTGTCGAGATGACTGAAAATCCGAAATTTTTGAACAGCCTCATTAAAGTGTACAGAATTAAAAACATTTACAGTATCATTTTTAGAAACCAATATTTGGAATGTACATAACAAGTTCATCTTTTGAGAATT\tFFFFFFFFFFFFFFFFFFFFFFFF,FFFFFFFFFFF:FFF:FFFFFFFFFFFFFFFFFFFFFFFFFFFFFFFFFFFFFFFFFFFFFFFFFFFFFFFFFFFFFFFFFF:FFFFFFFFFFFFFFFFFFFFFFFFFFFFFFFFFFFFFFFFFFF\tNH:i:1\tHI:i:1\tAS:i:149\tnM:i:0\tTX:Z:ENSMUST00000027035,+2847,151M\tGX:Z:ENSMUSG00000025902\tGN:Z:Sox17\tfx:Z:ENSMUSG00000025902\tRE:A:E\tli:i:0\tBC:Z:GTCCTTCT\tQT:Z:FFFFFFFF\tCR:Z:AAACCTGAGAGACGAA\tCY:Z:FFFFFFFFFFFFFFFF\tCB:Z:AAACCTGAGAGACGAA-1\tUR:Z:TTTCTTGCAT\tUY:Z:FFFFFFFFFF\tUB:Z:TTTCTTGCAT\txf:i:17\tRG:Z:181205_1:0:1:HGNGNDSXX:4\n",
      "A00351:89:HGNGNDSXX:4:1412:8006:18552\t1040\t1\t4491092\t255\t151M\t*\t0\t0\tCTGAAAATCCGAAATTTTTGAACAGCCTCATTAAAGTGTACAGAATTAAAAACATTTACAGTATCATTTTTAGAAACCAATATTTGGAATGTACATAACAAGTTCATCTTTTGAGAATTTTTCTCAGAACAATTATATCACATTTGAACAC\tFFFFFFFFF:FFFFFFFFFFFFFFF:FFFF:FFFFFFFFFFFFFFFFFFFFFFFFFFFFFFFFFFFFFFFFFFFFFFFF:FFFFFFFFFFFFFFFFFFFFFFFFFFFFFFFFFFFFFFFFFFFFFFFFFFFFFFFFFFFFFFFFFFFFFFF\tNH:i:1\tHI:i:1\tAS:i:149\tnM:i:0\tTX:Z:ENSMUST00000027035,+2815,151M\tGX:Z:ENSMUSG00000025902\tGN:Z:Sox17\tfx:Z:ENSMUSG00000025902\tRE:A:E\tli:i:0\tBC:Z:GTCCTTCT\tQT:Z:FFFF:FFF\tCR:Z:AAACCTGAGAGACGAA\tCY:Z:FFFFFFFFFFFFFFFF\tCB:Z:AAACCTGAGAGACGAA-1\tUR:Z:TTTCTTGCAT\tUY:Z:FFFFFFFFFF\tUB:Z:TTTCTTGCAT\txf:i:17\tRG:Z:181205_1:0:1:HGNGNDSXX:4\n",
      "A00351:89:HGNGNDSXX:4:2563:6379:16767\t16\t1\t4491154\t255\t144M7S\t*\t0\t0\tATCATTTTTAGAACCCAATATTTGGAATGTACATAACAAGTTCATCTTTTGAGAATTTTTCTCAGAACAATTATATCACATTTGAACACCCCGCTGTTTGTGTTTAGGGTTTCTTAGATGCATTTTCTTACAATGGTAAGAAAATGCATCT\tFFFF,FFFF:FF:,FFF:FFFFFFFFFF:FFFFF:,FFFFFFF:FFFFF,FFFFF,FFFFFFFFFF:FFFFFFFFFFFFFFFFFFFFFFFFFFFFFFFFFFFFFFFFFFFFFFFFFFFFFFFFFFFFFFFFFFFF:FFFFFFFFFFFF:FF\tNH:i:1\tHI:i:1\tAS:i:136\tnM:i:3\tTX:Z:ENSMUST00000027035,+2760,7S144M\tGX:Z:ENSMUSG00000025902\tGN:Z:Sox17\tfx:Z:ENSMUSG00000025902\tRE:A:E\tli:i:0\tBC:Z:CGAGGCTC\tQT:Z:FFFFFFFF\tCR:Z:AAACCTGAGAGACGAA\tCY:Z:FFFFFFFFFFFFFFFF\tCB:Z:AAACCTGAGAGACGAA-1\tUR:Z:CATATGCTTT\tUY:Z:FF:FFFFFFF\tUB:Z:CATATGCTTT\txf:i:25\tRG:Z:181205_1:0:1:HGNGNDSXX:4\n",
      "A00351:89:HGNGNDSXX:4:1342:32271:24283\t16\t1\t4491437\t255\t151M\t*\t0\t0\tTTCTCTAGATCAATACACTTTCAAGAAATGGAATAAGTCAGTGAGATATTTTAAAACTGGCTAAAACTGGACAGTGATTGTGGGGAGCAAGTCCCTCAAGGCATTTAAAACAAAAATCTCGTGTAGCCCCTCAACTGTTCAAGTGGCAGAC\tFFFF:FFFFFFFFFFFFFFFFFFFFFFFFFFFFFFFFFFFFFFFFFFFFFFFFFFFFFFFFFFFFFFFFFFFFFFFFFFFFFFFFFFFFFFFFFFFFFFFFFFFFFFFFFFFFFFFFFFFFFFFFFFFFFFFFFFFFFFFFFFFFFFFFFF\tNH:i:1\tHI:i:1\tAS:i:149\tnM:i:0\tTX:Z:ENSMUST00000027035,+2470,151M;ENSMUST00000192650,+3044,151M;ENSMUST00000195555,+1639,151M\tGX:Z:ENSMUSG00000025902\tGN:Z:Sox17\tfx:Z:ENSMUSG00000025902\tRE:A:E\tli:i:0\tBC:Z:GTCCTTCT\tQT:Z:FFFFFFFF\tCR:Z:AAACCTGAGAGACGAA\tCY:Z:FFFFFFFFFFFFFFFF\tCB:Z:AAACCTGAGAGACGAA-1\tUR:Z:TAAGCCCTGA\tUY:Z:FFFFFFFFFF\tUB:Z:TAAGCCCTGA\txf:i:25\tRG:Z:181205_1:0:1:HGNGNDSXX:4\n"
     ]
    }
   ],
   "source": [
    "import os\n",
    "import subprocess\n",
    "\n",
    "\n",
    "# RNAseq files: \n",
    "# 181205_1, 181205_2 : SHAM\n",
    "# 181205_3,181205_4:  TAC\n",
    "# 181206_1, 181206_2: JQ1 withdrawn\n",
    "# 181206_3, 181206_4: JQ1\n",
    "\n",
    "# # files[0] -> sample1_endothelial\n",
    "# # files[0] -> sample1_fibroblasts\n",
    "# # files[0] -> sample1_myeloid\n",
    "\n",
    "infile=open('files.txt','r')\n",
    "bam_locations_ordered = []\n",
    "for line in infile:\n",
    "    splitLine=line.strip().split('\\t')\n",
    "    print(splitLine)\n",
    "    bam_locations_ordered.append(splitLine)\n",
    "infile.close()\n",
    "\n",
    "\n",
    "\n",
    "for bam in bam_locations_ordered:\n",
    "    infile = open(bam, 'r')\n",
    "    #iterate through sample file  with barcodes that is mapped to current bam and grep reads\n",
    "    cmd = 'samtools view ' + bam = '| grep ' + barcode + '| > reads_per_barcode'\n",
    "    os.system(cmd)\n",
    "    # https://stackoverflow.com/questions/18739239/python-how-to-get-stdout-after-running-os-system\n",
    "    p = subprocess.getoutput(cmd)\n",
    "\n",
    "\n",
    "print(p)\n",
    "\n",
    "# b=f.readline()\n",
    "# while b:\n",
    "#     cmd='grep %s my2.txt'%b    #my2 is the file in which we are looking for b\n",
    "#     os.system(cmd)\n",
    "#     b=f.readline()\n",
    "# f.close()\n",
    "\n",
    "# a='He is'\n",
    "# cmd='grep %s my2.txt'%a\n",
    "# os.system(cmd)\n",
    "\n",
    "#for cell type specific bams we use barcodes in rds to grep lines in sample bams\n",
    "#for sample1 folder\n",
    "#run sample 1: Endothelial\n",
    "#read line from sample1-endothelial_rna and grep the barcode in the BAM file for that sample \n",
    "#matches should be written to sample1_endothelial.bam \n",
    "\n",
    "#run Sample 1. Fibroblasts\n",
    "\n",
    "#run Sample 1: myeloid\n",
    "\n"
   ]
  },
  {
   "cell_type": "code",
   "execution_count": null,
   "metadata": {},
   "outputs": [],
   "source": []
  }
 ],
 "metadata": {
  "kernelspec": {
   "display_name": "Python 3",
   "language": "python",
   "name": "python3"
  },
  "language_info": {
   "codemirror_mode": {
    "name": "ipython",
    "version": 3
   },
   "file_extension": ".py",
   "mimetype": "text/x-python",
   "name": "python",
   "nbconvert_exporter": "python",
   "pygments_lexer": "ipython3",
   "version": "3.8.3"
  }
 },
 "nbformat": 4,
 "nbformat_minor": 4
}
