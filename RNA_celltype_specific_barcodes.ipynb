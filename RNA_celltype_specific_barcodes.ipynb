{
 "cells": [
  {
   "cell_type": "code",
   "execution_count": 29,
   "metadata": {},
   "outputs": [],
   "source": [
    "\n",
    "#cell type specific files with barcodes, sampleID, clusterID\n",
    "files = ['Endothelial_all_samples.txt', \n",
    "         'Fibroblasts_all_samples.txt', \n",
    "         'Myeloid_all_samples.txt']\n",
    "\n",
    "exp_dir = 'barcodes/RNA/'\n",
    "exp = 'RNA'\n",
    "file_ext = '.txt'\n",
    "for file in files:\n",
    "    inFile = open('barcodes/RNA/' + file, 'r')\n",
    "    for line in inFile:\n",
    "        splitLine=line.strip().split('\\t')\n",
    "        barcode_sample=splitLine[0]\n",
    "        cluster = splitLine[1]\n",
    "        sample_num = barcode_sample[17:]\n",
    "        sample_name = 'Sample'+ sample_num\n",
    "        barcode = barcode_sample[:16]\n",
    "        splitFile = file.split('_')\n",
    "        cell_type = splitFile[0]\n",
    "#         print(cell_type)\n",
    "        filename = exp_dir + sample_name +'_' + cell_type +  '_' + exp + file_ext\n",
    "        s1 = open(filename, 'a+')\n",
    "        #write out the cell type, clusterID, and sampleID to check parsing was done correct\n",
    "        s1.write(barcode + '\\t' + cell_type + '\\t' + cluster + '\\t' + sample_num + '\\n')\n",
    "        s1.close()\n",
    "\n",
    "inFile.close()\n",
    "\n"
   ]
  }
 ],
 "metadata": {
  "kernelspec": {
   "display_name": "Python 3",
   "language": "python",
   "name": "python3"
  },
  "language_info": {
   "codemirror_mode": {
    "name": "ipython",
    "version": 3
   },
   "file_extension": ".py",
   "mimetype": "text/x-python",
   "name": "python",
   "nbconvert_exporter": "python",
   "pygments_lexer": "ipython3",
   "version": "3.8.3"
  }
 },
 "nbformat": 4,
 "nbformat_minor": 4
}
